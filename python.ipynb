{
 "cells": [
  {
   "cell_type": "code",
   "execution_count": 1,
   "id": "a3e493e2",
   "metadata": {},
   "outputs": [
    {
     "name": "stdout",
     "output_type": "stream",
     "text": [
      "Привет!\n"
     ]
    }
   ],
   "source": [
    "print('Привет!')"
   ]
  },
  {
   "cell_type": "code",
   "execution_count": 44,
   "id": "a4701f59",
   "metadata": {},
   "outputs": [
    {
     "data": {
      "text/plain": [
       "9"
      ]
     },
     "execution_count": 44,
     "metadata": {},
     "output_type": "execute_result"
    }
   ],
   "source": [
    "def func(a):\n",
    "    a += 5\n",
    "    return a\n",
    "\n",
    "func(4)"
   ]
  },
  {
   "cell_type": "markdown",
   "id": "4b2e3abc",
   "metadata": {},
   "source": [
    "**Тест-кейс 1:** Вычислить сумму всех четных чисел, встречающихся в ряду от 1 до числа (включительно), передаваемого в нашу функцию. \n",
    "Сигнатура: int evenNumbersSum(int num)"
   ]
  },
  {
   "cell_type": "code",
   "execution_count": 26,
   "id": "6ce3acc3",
   "metadata": {},
   "outputs": [],
   "source": [
    "def evenNumbersSum(num):\n",
    "    s = 0\n",
    "    for i in range(1, num+1):\n",
    "        if i % 2 == 0:\n",
    "            s += i\n",
    "    return s"
   ]
  },
  {
   "cell_type": "code",
   "execution_count": 27,
   "id": "93fa44bb",
   "metadata": {},
   "outputs": [
    {
     "data": {
      "text/plain": [
       "12"
      ]
     },
     "execution_count": 27,
     "metadata": {},
     "output_type": "execute_result"
    }
   ],
   "source": [
    "evenNumbersSum(6)"
   ]
  },
  {
   "cell_type": "markdown",
   "id": "92319c10",
   "metadata": {},
   "source": [
    "**Тест-кейс 2:** Дан массив чисел в котором есть дубли. \n",
    "Написать функцию, которая возвращает массив чисел без дублей. \n",
    "func remove_duplicates(array) remove_duplicates([1, 1, 2, 2, 3, 3]) -> [1, 2, 3]"
   ]
  },
  {
   "cell_type": "code",
   "execution_count": 28,
   "id": "bb13cbc5",
   "metadata": {},
   "outputs": [],
   "source": [
    "def remove_duplicates(array):\n",
    "    result = list(set(array))\n",
    "    return result"
   ]
  },
  {
   "cell_type": "code",
   "execution_count": 29,
   "id": "d63e5dce",
   "metadata": {},
   "outputs": [
    {
     "data": {
      "text/plain": [
       "[1, 2, 3]"
      ]
     },
     "execution_count": 29,
     "metadata": {},
     "output_type": "execute_result"
    }
   ],
   "source": [
    "remove_duplicates([1, 1, 2, 2, 3, 3])"
   ]
  },
  {
   "cell_type": "markdown",
   "id": "94b2c4d7",
   "metadata": {},
   "source": [
    "**Тест-кейс 3:** Последовательность Фибоначчи — порядок чисел, где каждое последующее — сумма двух предыдущих: 0, 1, 1, 2, 3, 5, 8, 13, 21, 34. \n",
    "Напишите функцию, которая принимает на вход число n и возвращает n-й элемент последовательности Фибоначчи."
   ]
  },
  {
   "cell_type": "code",
   "execution_count": 37,
   "id": "e576b8b4",
   "metadata": {},
   "outputs": [],
   "source": [
    "def Fib(num):\n",
    "    a = 0\n",
    "    b = 1\n",
    "    s = 0\n",
    "    for i in range(3, num+1):\n",
    "        s = a + b \n",
    "        a = b\n",
    "        b = s\n",
    "    return s"
   ]
  },
  {
   "cell_type": "code",
   "execution_count": 40,
   "id": "da521f40",
   "metadata": {},
   "outputs": [
    {
     "data": {
      "text/plain": [
       "5"
      ]
     },
     "execution_count": 40,
     "metadata": {},
     "output_type": "execute_result"
    }
   ],
   "source": [
    "Fib(6)"
   ]
  }
 ],
 "metadata": {
  "kernelspec": {
   "display_name": "Python 3",
   "language": "python",
   "name": "python3"
  },
  "language_info": {
   "codemirror_mode": {
    "name": "ipython",
    "version": 3
   },
   "file_extension": ".py",
   "mimetype": "text/x-python",
   "name": "python",
   "nbconvert_exporter": "python",
   "pygments_lexer": "ipython3",
   "version": "3.12.2"
  }
 },
 "nbformat": 4,
 "nbformat_minor": 5
}
