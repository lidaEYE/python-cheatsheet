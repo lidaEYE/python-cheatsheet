{
 "cells": [
  {
   "cell_type": "code",
   "execution_count": 1,
   "id": "a3e493e2",
   "metadata": {},
   "outputs": [
    {
     "name": "stdout",
     "output_type": "stream",
     "text": [
      "Привет!\n"
     ]
    }
   ],
   "source": [
    "print('Привет!')"
   ]
  },
  {
   "cell_type": "code",
   "execution_count": 44,
   "id": "a4701f59",
   "metadata": {},
   "outputs": [
    {
     "data": {
      "text/plain": [
       "9"
      ]
     },
     "execution_count": 44,
     "metadata": {},
     "output_type": "execute_result"
    }
   ],
   "source": [
    "def func(a):\n",
    "    a += 5\n",
    "    return a\n",
    "\n",
    "func(4)"
   ]
  },
  {
   "cell_type": "markdown",
   "id": "4b2e3abc",
   "metadata": {},
   "source": [
    "**Тест-кейс 1:** Вычислить сумму всех четных чисел, встречающихся в ряду от 1 до числа (включительно), передаваемого в нашу функцию. \n",
    "Сигнатура: int evenNumbersSum(int num)"
   ]
  },
  {
   "cell_type": "code",
   "execution_count": 26,
   "id": "6ce3acc3",
   "metadata": {},
   "outputs": [],
   "source": [
    "def evenNumbersSum(num):\n",
    "    s = 0\n",
    "    for i in range(1, num+1):\n",
    "        if i % 2 == 0:\n",
    "            s += i\n",
    "    return s"
   ]
  },
  {
   "cell_type": "code",
   "execution_count": 27,
   "id": "93fa44bb",
   "metadata": {},
   "outputs": [
    {
     "data": {
      "text/plain": [
       "12"
      ]
     },
     "execution_count": 27,
     "metadata": {},
     "output_type": "execute_result"
    }
   ],
   "source": [
    "evenNumbersSum(6)"
   ]
  },
  {
   "cell_type": "markdown",
   "id": "92319c10",
   "metadata": {},
   "source": [
    "**Тест-кейс 2:** Дан массив чисел в котором есть дубли. \n",
    "Написать функцию, которая возвращает массив чисел без дублей. \n",
    "func remove_duplicates(array) remove_duplicates([1, 1, 2, 2, 3, 3]) -> [1, 2, 3]"
   ]
  },
  {
   "cell_type": "code",
   "execution_count": 28,
   "id": "bb13cbc5",
   "metadata": {},
   "outputs": [],
   "source": [
    "def remove_duplicates(array):\n",
    "    result = list(set(array))\n",
    "    return result"
   ]
  },
  {
   "cell_type": "code",
   "execution_count": 29,
   "id": "d63e5dce",
   "metadata": {},
   "outputs": [
    {
     "data": {
      "text/plain": [
       "[1, 2, 3]"
      ]
     },
     "execution_count": 29,
     "metadata": {},
     "output_type": "execute_result"
    }
   ],
   "source": [
    "remove_duplicates([1, 1, 2, 2, 3, 3])"
   ]
  },
  {
   "cell_type": "markdown",
   "id": "94b2c4d7",
   "metadata": {},
   "source": [
    "**Тест-кейс 3:** Последовательность Фибоначчи — порядок чисел, где каждое последующее — сумма двух предыдущих: 0, 1, 1, 2, 3, 5, 8, 13, 21, 34. \n",
    "Напишите функцию, которая принимает на вход число n и возвращает n-й элемент последовательности Фибоначчи."
   ]
  },
  {
   "cell_type": "code",
   "execution_count": 37,
   "id": "e576b8b4",
   "metadata": {},
   "outputs": [],
   "source": [
    "def Fib(num):\n",
    "    a = 0\n",
    "    b = 1\n",
    "    s = 0\n",
    "    for i in range(3, num+1):\n",
    "        s = a + b \n",
    "        a = b\n",
    "        b = s\n",
    "    return s"
   ]
  },
  {
   "cell_type": "code",
   "execution_count": 40,
   "id": "da521f40",
   "metadata": {},
   "outputs": [
    {
     "data": {
      "text/plain": [
       "5"
      ]
     },
     "execution_count": 40,
     "metadata": {},
     "output_type": "execute_result"
    }
   ],
   "source": [
    "Fib(6)"
   ]
  },
  {
   "cell_type": "markdown",
   "id": "af779c56",
   "metadata": {},
   "source": [
    "Проверить, является ли строка почти палиндромом. Строка называется почти палиндромом, если из нее можно удалить один символ, чтобы она читалась слева направо также, как и справа налево.\n",
    "\n",
    "**Формат входных данных**\n",
    "В единственной строке входных данных дается строка из четырех латинских символов.\n",
    "**Формат выходных данных**\n",
    "YES, если строка является почти палиндромом, NO в ином случае."
   ]
  },
  {
   "cell_type": "code",
   "execution_count": 3,
   "id": "d3dba901",
   "metadata": {},
   "outputs": [
    {
     "name": "stdout",
     "output_type": "stream",
     "text": [
      "YES\n"
     ]
    }
   ],
   "source": [
    "s = input().strip()\n",
    "if (s[1] == s[3]) or (s[0] == s[3]) or (s[0] == s[2]):\n",
    "    print(\"YES\")\n",
    "else:\n",
    "    print(\"NO\")"
   ]
  },
  {
   "cell_type": "markdown",
   "id": "18f4c4d5",
   "metadata": {},
   "source": [
    "Егор с друзьями гуляли по городу N и нашли карту метро. В этом городе целых  веток метро, у каждой ветки свое расписание. Изучив расписание, они обнаружили, что по ветке  поезд начинает ходить в  секунду с начала дня, и каждый новый поезд начинает маршрут после предыдущего спустя  секунд. Теперь им захотелось научиться в некоторые моменты времени для ветки и времени определять, когда они увидят поезд после прихода на станцию.\n",
    "Формат входных данных\n",
    "В первой строке входных данных дано число   количество веток в городе .\n",
    "В следующих  строках даны числа  первый момент, когда поезд с -й ветки приезжает на станцию, и промежуток между поездами \n",
    "В следующей строке дано число  количество запросов \n",
    "В следующих  строках даны числа  номер ветки и момент времени, когда друзья придут на станцию \n",
    "Формат выходных данных\n",
    "Для каждого запроса выведите в отдельной строке ответ на задачу."
   ]
  },
  {
   "cell_type": "code",
   "execution_count": 6,
   "id": "0c5572ac",
   "metadata": {},
   "outputs": [
    {
     "name": "stdout",
     "output_type": "stream",
     "text": [
      "2\n",
      "8\n",
      "9\n",
      "5\n",
      "9\n"
     ]
    }
   ],
   "source": [
    "n = int(input())\n",
    "branches = []\n",
    "for _ in range(n):\n",
    "    t, k = map(int, input().split())\n",
    "    branches.append((t, k))\n",
    "\n",
    "q = int(input())\n",
    "for _ in range(q):\n",
    "    m, T = map(int, input().split())\n",
    "    m -= 1  # переход к 0-индексации\n",
    "    t, k = branches[m]\n",
    "    if T < t:\n",
    "        print(t)\n",
    "    else:\n",
    "        n = (T - t) // k\n",
    "        if (T - t) % k == 0:\n",
    "            print(T)\n",
    "        else:\n",
    "            print(t + (n + 1) * k)"
   ]
  },
  {
   "cell_type": "code",
   "execution_count": 7,
   "id": "8900fa41",
   "metadata": {},
   "outputs": [
    {
     "name": "stdout",
     "output_type": "stream",
     "text": [
      "3\n"
     ]
    }
   ],
   "source": [
    "n = int(input())\n",
    "arr = list(map(int, input().split()))\n",
    "used = set()\n",
    "\n",
    "for num in arr:\n",
    "    current = num\n",
    "    while current > 0:\n",
    "        if current not in used:\n",
    "            used.add(current)\n",
    "            break\n",
    "        current = current // 2\n",
    "    else:\n",
    "        if current == 0 and 0 not in used:\n",
    "            used.add(0)\n",
    "\n",
    "print(len(used))"
   ]
  },
  {
   "cell_type": "code",
   "execution_count": 8,
   "id": "60511b78",
   "metadata": {},
   "outputs": [
    {
     "name": "stdout",
     "output_type": "stream",
     "text": [
      "3\n"
     ]
    }
   ],
   "source": [
    "n = int(input())\n",
    "arr = list(map(int, input().split()))\n",
    "count = 0\n",
    "\n",
    "for l in range(n):\n",
    "    for r in range(l + 2, n):\n",
    "        found = False\n",
    "        for i in range(l, r):\n",
    "            for j in range(i + 1, r):\n",
    "                for k in range(j + 1, r + 1):\n",
    "                    if 2 * arr[j] == arr[i] + arr[k]:\n",
    "                        found = True\n",
    "                        break\n",
    "                if found:\n",
    "                    break\n",
    "            if found:\n",
    "                break\n",
    "        if found:\n",
    "            count += 1\n",
    "\n",
    "print(count)"
   ]
  },
  {
   "cell_type": "code",
   "execution_count": 9,
   "id": "372e21d9",
   "metadata": {},
   "outputs": [
    {
     "name": "stdout",
     "output_type": "stream",
     "text": [
      "6\n"
     ]
    }
   ],
   "source": [
    "n, x, y = map(int, input().split())\n",
    "s = input().strip()\n",
    "\n",
    "# Подсчет необходимых замен\n",
    "open_needed = s.count(')') - s.count('(') if s.count(')') > s.count('(') else 0\n",
    "close_needed = s.count('(') - s.count(')') if s.count('(') > s.count(')') else 0\n",
    "\n",
    "replace_cost = (open_needed + close_needed) * y\n",
    "\n",
    "# Попытка использовать обмены\n",
    "stack = []\n",
    "swap_cost = 0\n",
    "for char in s:\n",
    "    if char == '(':\n",
    "        stack.append(char)\n",
    "    else:\n",
    "        if stack:\n",
    "            stack.pop()\n",
    "        else:\n",
    "            # Можно ли поменять с последующей '('?\n",
    "            pass  # Упрощенный пример, нужна доработка\n",
    "\n",
    "min_cost = replace_cost  # В текущей реализации замены всегда дешевле\n",
    "\n",
    "print(min_cost)"
   ]
  },
  {
   "cell_type": "code",
   "execution_count": 10,
   "id": "988e6ac4",
   "metadata": {},
   "outputs": [
    {
     "name": "stdout",
     "output_type": "stream",
     "text": [
      "4\n"
     ]
    }
   ],
   "source": [
    "n = int(input())\n",
    "heights = list(map(int, input().split()))\n",
    "total = 0\n",
    "\n",
    "while len(heights) > 1:\n",
    "    max_diff = 0\n",
    "    index = 0\n",
    "    for i in range(len(heights) - 1):\n",
    "        diff = abs(heights[i] - heights[i+1])\n",
    "        if diff > max_diff:\n",
    "            max_diff = diff\n",
    "            index = i\n",
    "    total += max_diff\n",
    "    del heights[index:index+2]\n",
    "\n",
    "print(total)"
   ]
  },
  {
   "cell_type": "code",
   "execution_count": null,
   "id": "c2f59222",
   "metadata": {},
   "outputs": [],
   "source": [
    "import sys\n",
    "import math\n",
    "from math import gcd\n",
    "from functools import reduce\n",
    "\n",
    "MOD = 998244353\n",
    "\n",
    "def solve():\n",
    "    n = int(sys.stdin.readline())\n",
    "    A = list(map(int, sys.stdin.readline().split()))\n",
    "    \n",
    "    # Находим все возможные дроби a/b, где a + b = n, gcd(a, b) = 1\n",
    "    fractions = []\n",
    "    for a in range(1, n):\n",
    "        b = n - a\n",
    "        if gcd(a, b) == 1:\n",
    "            fractions.append((a, b))\n",
    "    \n",
    "    total = 0\n",
    "    \n",
    "    for a, b in fractions:\n",
    "        # Проверяем, что b делит все A_i\n",
    "        valid = True\n",
    "        for num in A:\n",
    "            if num % b != 0:\n",
    "                valid = False\n",
    "                break\n",
    "        if not valid:\n",
    "            continue\n",
    "        \n",
    "        # Вычисляем x_i = (A_i * a) // b\n",
    "        x = []\n",
    "        for num in A:\n",
    "            x_i = (num * a) // b\n",
    "            x.append(x_i)\n",
    "        \n",
    "        # Проверяем, что gcd всех x_i равен 1\n",
    "        current_gcd = x[0]\n",
    "        for num in x[1:]:\n",
    "            current_gcd = gcd(current_gcd, num)\n",
    "            if current_gcd == 1:\n",
    "                break\n",
    "        if current_gcd != 1:\n",
    "            continue\n",
    "        \n",
    "        # Вычисляем интересность: произведение x_i\n",
    "        product = 1\n",
    "        for num in x:\n",
    "            product = (product * num) % MOD\n",
    "        total = (total + product) % MOD\n",
    "    \n",
    "    print(total)\n",
    "\n",
    "solve()"
   ]
  }
 ],
 "metadata": {
  "kernelspec": {
   "display_name": "Python 3",
   "language": "python",
   "name": "python3"
  },
  "language_info": {
   "codemirror_mode": {
    "name": "ipython",
    "version": 3
   },
   "file_extension": ".py",
   "mimetype": "text/x-python",
   "name": "python",
   "nbconvert_exporter": "python",
   "pygments_lexer": "ipython3",
   "version": "3.12.2"
  }
 },
 "nbformat": 4,
 "nbformat_minor": 5
}
