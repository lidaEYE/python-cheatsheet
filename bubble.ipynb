{
 "cells": [
  {
   "cell_type": "code",
   "execution_count": null,
   "id": "fd4c3283",
   "metadata": {
    "vscode": {
     "languageId": "javascript"
    }
   },
   "outputs": [
    {
     "ename": "SyntaxError",
     "evalue": "invalid syntax (3420831790.py, line 1)",
     "output_type": "error",
     "traceback": [
      "\u001b[1;36m  Cell \u001b[1;32mIn[1], line 1\u001b[1;36m\u001b[0m\n\u001b[1;33m    public class BubbleSort {\u001b[0m\n\u001b[1;37m           ^\u001b[0m\n\u001b[1;31mSyntaxError\u001b[0m\u001b[1;31m:\u001b[0m invalid syntax\n"
     ]
    }
   ],
   "source": [
    "public class BubbleSort {\n",
    "    \n",
    "    public static void main(String[] arg) {\n",
    "        Random rnd = new Random();\n",
    "        int[] array = new int[100];\n",
    "\n",
    "        for(int i=0; i < array.length-1; i++) {\n",
    "            int value = rnd.nextInt(500);\n",
    "            array[i]= value;\n",
    "        }\n",
    "        array = sort(array);\n",
    "        System.out.println(Arrays.tostring(array));\n",
    "    }\n",
    "\n",
    "    private static int[] sort(int[] array) {\n",
    "        for(int i = 0; i < array.lenght-1; i++) {\n",
    "            int right = array.length-i-1;\n",
    "            for(int k=0;k<right;k++) {\n",
    "                if(array[k]>array[k+1]) {\n",
    "                    int curVal = array[k];\n",
    "                    array[k]= array[k+1];\n",
    "                    array[k+1]= curVal;\n",
    "                }\n",
    "            }\n",
    "        }\n",
    "        return array;\n",
    "    }\n",
    "}\n"
   ]
  }
 ],
 "metadata": {
  "kernelspec": {
   "display_name": "Python 3",
   "language": "python",
   "name": "python3"
  },
  "language_info": {
   "codemirror_mode": {
    "name": "ipython",
    "version": 3
   },
   "file_extension": ".py",
   "mimetype": "text/x-python",
   "name": "python",
   "nbconvert_exporter": "python",
   "pygments_lexer": "ipython3",
   "version": "3.11.9"
  }
 },
 "nbformat": 4,
 "nbformat_minor": 5
}
