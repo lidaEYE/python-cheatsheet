{
 "cells": [
  {
   "cell_type": "markdown",
   "id": "b6c90ae1",
   "metadata": {},
   "source": [
    "1. Вернуть True, если число делится на 2, False, если не делится"
   ]
  },
  {
   "cell_type": "code",
   "execution_count": 10,
   "id": "0fced8f2",
   "metadata": {},
   "outputs": [],
   "source": [
    "def num(num):\n",
    "    return num % 2 == 0\n",
    "        "
   ]
  },
  {
   "cell_type": "code",
   "execution_count": 13,
   "id": "0a7cc0e6",
   "metadata": {},
   "outputs": [
    {
     "data": {
      "text/plain": [
       "False"
      ]
     },
     "execution_count": 13,
     "metadata": {},
     "output_type": "execute_result"
    }
   ],
   "source": [
    "num(15)"
   ]
  },
  {
   "cell_type": "markdown",
   "id": "04582988",
   "metadata": {},
   "source": [
    "2. Дан список чисел. Напиши функцию, которая возвращает их сумму (без использования sum())."
   ]
  },
  {
   "cell_type": "code",
   "execution_count": 21,
   "id": "298fb6fa",
   "metadata": {},
   "outputs": [
    {
     "name": "stdout",
     "output_type": "stream",
     "text": [
      "18\n"
     ]
    }
   ],
   "source": [
    "a = (1, 2, 3, 5, 7)\n",
    "sum = 0\n",
    "for i in a:\n",
    "    sum += i\n",
    "print(sum)\n",
    "\n",
    "def sum_list(list):\n",
    "    sum = 0\n",
    "    for i in list:\n",
    "        sum += i\n",
    "    return sum\n",
    "    "
   ]
  },
  {
   "cell_type": "code",
   "execution_count": 23,
   "id": "7ff820be",
   "metadata": {},
   "outputs": [
    {
     "ename": "TypeError",
     "evalue": "sum_list() takes 1 positional argument but 3 were given",
     "output_type": "error",
     "traceback": [
      "\u001b[1;31m---------------------------------------------------------------------------\u001b[0m",
      "\u001b[1;31mTypeError\u001b[0m                                 Traceback (most recent call last)",
      "Cell \u001b[1;32mIn[23], line 1\u001b[0m\n\u001b[1;32m----> 1\u001b[0m \u001b[43msum_list\u001b[49m\u001b[43m(\u001b[49m\u001b[38;5;241;43m1\u001b[39;49m\u001b[43m,\u001b[49m\u001b[43m \u001b[49m\u001b[38;5;241;43m5\u001b[39;49m\u001b[43m,\u001b[49m\u001b[43m \u001b[49m\u001b[38;5;241;43m6\u001b[39;49m\u001b[43m)\u001b[49m\n",
      "\u001b[1;31mTypeError\u001b[0m: sum_list() takes 1 positional argument but 3 were given"
     ]
    }
   ],
   "source": [
    "sum_list(1, 5, 6)"
   ]
  },
  {
   "cell_type": "markdown",
   "id": "3beef8e0",
   "metadata": {},
   "source": [
    "3. Напиши функцию, которая находит и возвращает максимальное число в списке (без max())."
   ]
  },
  {
   "cell_type": "markdown",
   "id": "d34dac15",
   "metadata": {},
   "source": [
    "4. Дан список строк. Верни только те строки, которые начинаются с буквы \"A\"."
   ]
  },
  {
   "cell_type": "markdown",
   "id": "202dd0d0",
   "metadata": {},
   "source": [
    "5. Напиши функцию, которая считает количество гласных букв (a, e, i, o, u) в строке."
   ]
  },
  {
   "cell_type": "markdown",
   "id": "ed5f447f",
   "metadata": {},
   "source": [
    "6. Напиши функцию, которая переворачивает строку (без использования [::-1] или reversed)."
   ]
  },
  {
   "cell_type": "markdown",
   "id": "48cb5bf0",
   "metadata": {},
   "source": [
    "7. Дан список чисел. Верни True, если в нём есть дубликаты, и False — если все элементы уникальны."
   ]
  },
  {
   "cell_type": "markdown",
   "id": "2bbced26",
   "metadata": {},
   "source": [
    "8. Напиши функцию, которая переводит градусы из Цельсия в Фаренгейты по формуле:\n",
    "F = (C × 9/5) + 32."
   ]
  },
  {
   "cell_type": "markdown",
   "id": "fff9cc4d",
   "metadata": {},
   "source": [
    "9. Напиши функцию, которая проверяет, является ли строка палиндромом (читается одинаково слева направо и справа налево, например, \"топот\")."
   ]
  },
  {
   "cell_type": "markdown",
   "id": "c2363b95",
   "metadata": {},
   "source": [
    "10. Напиши функцию, которая возвращает список всех простых чисел до заданного числа N."
   ]
  }
 ],
 "metadata": {
  "kernelspec": {
   "display_name": "Python 3",
   "language": "python",
   "name": "python3"
  },
  "language_info": {
   "codemirror_mode": {
    "name": "ipython",
    "version": 3
   },
   "file_extension": ".py",
   "mimetype": "text/x-python",
   "name": "python",
   "nbconvert_exporter": "python",
   "pygments_lexer": "ipython3",
   "version": "3.11.9"
  }
 },
 "nbformat": 4,
 "nbformat_minor": 5
}
